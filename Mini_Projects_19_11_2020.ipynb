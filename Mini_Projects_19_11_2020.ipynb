{
 "cells": [
  {
   "cell_type": "markdown",
   "metadata": {},
   "source": [
    "# SMALL MODULES"
   ]
  },
  {
   "cell_type": "markdown",
   "metadata": {},
   "source": [
    "## Project of taking Screenshot"
   ]
  },
  {
   "cell_type": "code",
   "execution_count": 1,
   "metadata": {},
   "outputs": [],
   "source": [
    "import pyautogui\n",
    "import time\n",
    "import tkinter as tk"
   ]
  },
  {
   "cell_type": "code",
   "execution_count": 2,
   "metadata": {},
   "outputs": [],
   "source": [
    "def screenshot():\n",
    "    name = int(round(time.time() * 1000))\n",
    "    name = 'E:\\Study\\{}.png'.format(name)\n",
    "    time.sleep(5)\n",
    "    img=pyautogui.screenshot(name)\n",
    "    img.show()\n",
    "    \n",
    "root=tk.Tk()\n",
    "frame=tk.Frame(root)\n",
    "frame.pack()\n",
    "\n",
    "button = tk.Button(\n",
    "frame,\n",
    "text=\"Take screenshot\",\n",
    "command=screenshot)\n",
    "\n",
    "button.pack(side = tk.LEFT)\n",
    "close=tk.Button(\n",
    "frame,\n",
    "text=\"QUIT\",\n",
    "command=quit)\n",
    "\n",
    "close.pack(side=tk.LEFT)\n",
    "\n",
    "root.mainloop()"
   ]
  },
  {
   "cell_type": "markdown",
   "metadata": {},
   "source": [
    "## Project of password generator"
   ]
  },
  {
   "cell_type": "code",
   "execution_count": 1,
   "metadata": {},
   "outputs": [],
   "source": [
    "import string\n",
    "import random"
   ]
  },
  {
   "cell_type": "code",
   "execution_count": 5,
   "metadata": {},
   "outputs": [],
   "source": [
    "def generate():\n",
    "    s1= string.ascii_uppercase\n",
    "    s2= string.ascii_lowercase\n",
    "    s3= string.digits\n",
    "    s4= string.punctuation\n",
    "    \n",
    "    pass_length=int(input(\"Enter the length of password : \"))\n",
    "    \n",
    "    s=[]\n",
    "    s.extend(list(s1))\n",
    "    s.extend(list(s2))\n",
    "    s.extend(list(s3))\n",
    "    s.extend(list(s4))\n",
    "    \n",
    "    #print(s)\n",
    "    \n",
    "    random.shuffle(s)\n",
    "    #print(s)\n",
    "    \n",
    "    pas=(\" \".join(s[0:pass_length]))\n",
    "    print(pas)\n",
    "    "
   ]
  },
  {
   "cell_type": "code",
   "execution_count": 6,
   "metadata": {},
   "outputs": [
    {
     "name": "stdout",
     "output_type": "stream",
     "text": [
      "Enter the length of password : 5\n",
      "$ w I ~ h\n"
     ]
    }
   ],
   "source": [
    "generate()"
   ]
  },
  {
   "cell_type": "markdown",
   "metadata": {},
   "source": [
    "## Email sender"
   ]
  },
  {
   "cell_type": "code",
   "execution_count": 7,
   "metadata": {},
   "outputs": [],
   "source": [
    "import smtplib"
   ]
  },
  {
   "cell_type": "code",
   "execution_count": 13,
   "metadata": {},
   "outputs": [
    {
     "name": "stdout",
     "output_type": "stream",
     "text": [
      "Enter the mail of reciptent : rbhagwat3576@gmail.com\n",
      "Enter the mail content : hi hello\n"
     ]
    }
   ],
   "source": [
    "to=input(\"Enter the mail of reciptent : \")\n",
    "\n",
    "content=input(\"Enter the mail content : \")\n",
    "\n",
    "def send(to,content):\n",
    "    server= smtplib.SMTP('smtp.gmail.com', 587)\n",
    "    server.ehlo()\n",
    "    server.starttls()\n",
    "    server.login(\"send123@gmail.com\",'12345')\n",
    "    server.sendmail(\"send123@gmail.com\",to,content)\n",
    "    server.close()\n",
    "    \n",
    "send(to,content)    "
   ]
  },
  {
   "cell_type": "markdown",
   "metadata": {},
   "source": [
    "## Covid Updates"
   ]
  },
  {
   "cell_type": "code",
   "execution_count": null,
   "metadata": {},
   "outputs": [],
   "source": [
    "import requests\n",
    "from win10toast import ToastNotifier\n",
    "import json\n",
    "import time\n",
    "\n",
    "def update():\n",
    "    r= requests.get(\"https://coronavirus-19-api.herokuapp.com/all\")\n",
    "    data = r.json()\n",
    "    text= f'Confirmed cases : {data[\"cases\"]}\\n Deaths:{data[\"deaths\"]}\\n Recovered{data[\"recovered\"]}'\n",
    "    \n",
    "    while True:\n",
    "        toast= ToastNotifier()\n",
    "        toast.show_toast(\"Covid-19 Updates\",text,duration=20)\n",
    "        time.sleep(60)\n",
    "        \n",
    "update()        "
   ]
  },
  {
   "cell_type": "markdown",
   "metadata": {},
   "source": [
    "## Text to Speech"
   ]
  },
  {
   "cell_type": "code",
   "execution_count": 24,
   "metadata": {},
   "outputs": [],
   "source": [
    "import pyttsx3\n",
    "\n",
    "engine=pyttsx3.init()\n",
    "engine.say(\"I'll be there for you\")\n",
    "engine.runAndWait()"
   ]
  },
  {
   "cell_type": "code",
   "execution_count": 23,
   "metadata": {},
   "outputs": [
    {
     "name": "stdout",
     "output_type": "stream",
     "text": [
      "Enter the text : rachana is good girl\n"
     ]
    }
   ],
   "source": [
    "import pyttsx3\n",
    "\n",
    "data=input(\"Enter the text : \")\n",
    "\n",
    "engine=pyttsx3.init()\n",
    "engine.say(data)\n",
    "engine.runAndWait()"
   ]
  },
  {
   "cell_type": "markdown",
   "metadata": {},
   "source": [
    "## Speech to text"
   ]
  },
  {
   "cell_type": "markdown",
   "metadata": {},
   "source": [
    "## Web Cam APP "
   ]
  },
  {
   "cell_type": "code",
   "execution_count": 6,
   "metadata": {},
   "outputs": [
    {
     "name": "stdout",
     "output_type": "stream",
     "text": [
      "done\n"
     ]
    }
   ],
   "source": [
    "import cv2\n",
    "\n",
    "img=cv2.VideoCapture(0)\n",
    "result =True\n",
    "while (result):\n",
    "    ret ,frame=img.read()\n",
    "    cv2.imwrite(\"test.jpg\",frame)\n",
    "    result= False\n",
    "    print(\"done\")\n",
    "    \n",
    "img.release()    "
   ]
  },
  {
   "cell_type": "code",
   "execution_count": null,
   "metadata": {},
   "outputs": [],
   "source": []
  }
 ],
 "metadata": {
  "kernelspec": {
   "display_name": "Python 3",
   "language": "python",
   "name": "python3"
  },
  "language_info": {
   "codemirror_mode": {
    "name": "ipython",
    "version": 3
   },
   "file_extension": ".py",
   "mimetype": "text/x-python",
   "name": "python",
   "nbconvert_exporter": "python",
   "pygments_lexer": "ipython3",
   "version": "3.8.3"
  }
 },
 "nbformat": 4,
 "nbformat_minor": 4
}
